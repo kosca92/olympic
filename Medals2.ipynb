{
 "cells": [
  {
   "cell_type": "markdown",
   "metadata": {},
   "source": [
    "### Import packages"
   ]
  },
  {
   "cell_type": "code",
   "execution_count": 152,
   "metadata": {},
   "outputs": [],
   "source": [
    "import pandas as pd"
   ]
  },
  {
   "cell_type": "markdown",
   "metadata": {},
   "source": [
    "### Create pandas dataframe by reading csv file"
   ]
  },
  {
   "cell_type": "code",
   "execution_count": 153,
   "metadata": {},
   "outputs": [],
   "source": [
    "df = pd.read_csv('medals.csv')"
   ]
  },
  {
   "cell_type": "markdown",
   "metadata": {},
   "source": [
    "### How does data look in general?"
   ]
  },
  {
   "cell_type": "code",
   "execution_count": 154,
   "metadata": {},
   "outputs": [
    {
     "data": {
      "text/html": [
       "<div>\n",
       "<style scoped>\n",
       "    .dataframe tbody tr th:only-of-type {\n",
       "        vertical-align: middle;\n",
       "    }\n",
       "\n",
       "    .dataframe tbody tr th {\n",
       "        vertical-align: top;\n",
       "    }\n",
       "\n",
       "    .dataframe thead th {\n",
       "        text-align: right;\n",
       "    }\n",
       "</style>\n",
       "<table border=\"1\" class=\"dataframe\">\n",
       "  <thead>\n",
       "    <tr style=\"text-align: right;\">\n",
       "      <th></th>\n",
       "      <th>Games</th>\n",
       "      <th>Year</th>\n",
       "      <th>Sport</th>\n",
       "      <th>Discipline</th>\n",
       "      <th>Athlete</th>\n",
       "      <th>Team</th>\n",
       "      <th>Gender</th>\n",
       "      <th>Event</th>\n",
       "      <th>Medal</th>\n",
       "      <th>Gold</th>\n",
       "      <th>Silver</th>\n",
       "      <th>Bronze</th>\n",
       "    </tr>\n",
       "  </thead>\n",
       "  <tbody>\n",
       "    <tr>\n",
       "      <th>0</th>\n",
       "      <td>Athens (1896)</td>\n",
       "      <td>1896</td>\n",
       "      <td>Aquatics</td>\n",
       "      <td>Swimming</td>\n",
       "      <td>alfred hajos</td>\n",
       "      <td>HUN</td>\n",
       "      <td>Men</td>\n",
       "      <td>100m freestyle men</td>\n",
       "      <td>Gold</td>\n",
       "      <td>1</td>\n",
       "      <td>0</td>\n",
       "      <td>0</td>\n",
       "    </tr>\n",
       "    <tr>\n",
       "      <th>1</th>\n",
       "      <td>Athens (1896)</td>\n",
       "      <td>1896</td>\n",
       "      <td>Aquatics</td>\n",
       "      <td>Swimming</td>\n",
       "      <td>Otto Herschmann</td>\n",
       "      <td>AUT</td>\n",
       "      <td>Men</td>\n",
       "      <td>100m freestyle men</td>\n",
       "      <td>Silver</td>\n",
       "      <td>0</td>\n",
       "      <td>1</td>\n",
       "      <td>0</td>\n",
       "    </tr>\n",
       "    <tr>\n",
       "      <th>2</th>\n",
       "      <td>Athens (1896)</td>\n",
       "      <td>1896</td>\n",
       "      <td>Aquatics</td>\n",
       "      <td>Swimming</td>\n",
       "      <td>dimitrios drivas</td>\n",
       "      <td>GRE</td>\n",
       "      <td>Men</td>\n",
       "      <td>100m freestyle for sailors men</td>\n",
       "      <td>Bronze</td>\n",
       "      <td>0</td>\n",
       "      <td>0</td>\n",
       "      <td>1</td>\n",
       "    </tr>\n",
       "    <tr>\n",
       "      <th>3</th>\n",
       "      <td>Athens (1896)</td>\n",
       "      <td>1896</td>\n",
       "      <td>Aquatics</td>\n",
       "      <td>Swimming</td>\n",
       "      <td>Ioannis Malokinis</td>\n",
       "      <td>GRE</td>\n",
       "      <td>Men</td>\n",
       "      <td>100m freestyle for sailors men</td>\n",
       "      <td>Gold</td>\n",
       "      <td>1</td>\n",
       "      <td>0</td>\n",
       "      <td>0</td>\n",
       "    </tr>\n",
       "    <tr>\n",
       "      <th>4</th>\n",
       "      <td>Athens (1896)</td>\n",
       "      <td>1896</td>\n",
       "      <td>Aquatics</td>\n",
       "      <td>Swimming</td>\n",
       "      <td>spiridon chasapis</td>\n",
       "      <td>GRE</td>\n",
       "      <td>Men</td>\n",
       "      <td>100m freestyle for sailors men</td>\n",
       "      <td>Silver</td>\n",
       "      <td>0</td>\n",
       "      <td>1</td>\n",
       "      <td>0</td>\n",
       "    </tr>\n",
       "    <tr>\n",
       "      <th>5</th>\n",
       "      <td>Athens (1896)</td>\n",
       "      <td>1896</td>\n",
       "      <td>Aquatics</td>\n",
       "      <td>Swimming</td>\n",
       "      <td>Efstathios Chorophas</td>\n",
       "      <td>GRE</td>\n",
       "      <td>Men</td>\n",
       "      <td>1200m freestyle men</td>\n",
       "      <td>Bronze</td>\n",
       "      <td>0</td>\n",
       "      <td>0</td>\n",
       "      <td>1</td>\n",
       "    </tr>\n",
       "    <tr>\n",
       "      <th>6</th>\n",
       "      <td>Athens (1896)</td>\n",
       "      <td>1896</td>\n",
       "      <td>Aquatics</td>\n",
       "      <td>Swimming</td>\n",
       "      <td>alfred hajos</td>\n",
       "      <td>HUN</td>\n",
       "      <td>Men</td>\n",
       "      <td>1200m freestyle men</td>\n",
       "      <td>Gold</td>\n",
       "      <td>1</td>\n",
       "      <td>0</td>\n",
       "      <td>0</td>\n",
       "    </tr>\n",
       "    <tr>\n",
       "      <th>7</th>\n",
       "      <td>Athens (1896)</td>\n",
       "      <td>1896</td>\n",
       "      <td>Aquatics</td>\n",
       "      <td>Swimming</td>\n",
       "      <td>joannis andreou</td>\n",
       "      <td>GRE</td>\n",
       "      <td>Men</td>\n",
       "      <td>1200m freestyle men</td>\n",
       "      <td>Silver</td>\n",
       "      <td>0</td>\n",
       "      <td>1</td>\n",
       "      <td>0</td>\n",
       "    </tr>\n",
       "    <tr>\n",
       "      <th>8</th>\n",
       "      <td>Athens (1896)</td>\n",
       "      <td>1896</td>\n",
       "      <td>Aquatics</td>\n",
       "      <td>Swimming</td>\n",
       "      <td>Efstathios Chorophas</td>\n",
       "      <td>GRE</td>\n",
       "      <td>Men</td>\n",
       "      <td>400m freestyle men</td>\n",
       "      <td>Bronze</td>\n",
       "      <td>0</td>\n",
       "      <td>0</td>\n",
       "      <td>1</td>\n",
       "    </tr>\n",
       "    <tr>\n",
       "      <th>9</th>\n",
       "      <td>Athens (1896)</td>\n",
       "      <td>1896</td>\n",
       "      <td>Aquatics</td>\n",
       "      <td>Swimming</td>\n",
       "      <td>paul neumann</td>\n",
       "      <td>AUT</td>\n",
       "      <td>Men</td>\n",
       "      <td>400m freestyle men</td>\n",
       "      <td>Gold</td>\n",
       "      <td>1</td>\n",
       "      <td>0</td>\n",
       "      <td>0</td>\n",
       "    </tr>\n",
       "  </tbody>\n",
       "</table>\n",
       "</div>"
      ],
      "text/plain": [
       "           Games  Year     Sport Discipline               Athlete Team Gender  \\\n",
       "0  Athens (1896)  1896  Aquatics   Swimming          alfred hajos  HUN    Men   \n",
       "1  Athens (1896)  1896  Aquatics   Swimming       Otto Herschmann  AUT    Men   \n",
       "2  Athens (1896)  1896  Aquatics   Swimming      dimitrios drivas  GRE    Men   \n",
       "3  Athens (1896)  1896  Aquatics   Swimming     Ioannis Malokinis  GRE    Men   \n",
       "4  Athens (1896)  1896  Aquatics   Swimming     spiridon chasapis  GRE    Men   \n",
       "5  Athens (1896)  1896  Aquatics   Swimming  Efstathios Chorophas  GRE    Men   \n",
       "6  Athens (1896)  1896  Aquatics   Swimming          alfred hajos  HUN    Men   \n",
       "7  Athens (1896)  1896  Aquatics   Swimming       joannis andreou  GRE    Men   \n",
       "8  Athens (1896)  1896  Aquatics   Swimming  Efstathios Chorophas  GRE    Men   \n",
       "9  Athens (1896)  1896  Aquatics   Swimming          paul neumann  AUT    Men   \n",
       "\n",
       "                            Event   Medal  Gold  Silver  Bronze  \n",
       "0              100m freestyle men    Gold     1       0       0  \n",
       "1              100m freestyle men  Silver     0       1       0  \n",
       "2  100m freestyle for sailors men  Bronze     0       0       1  \n",
       "3  100m freestyle for sailors men    Gold     1       0       0  \n",
       "4  100m freestyle for sailors men  Silver     0       1       0  \n",
       "5             1200m freestyle men  Bronze     0       0       1  \n",
       "6             1200m freestyle men    Gold     1       0       0  \n",
       "7             1200m freestyle men  Silver     0       1       0  \n",
       "8              400m freestyle men  Bronze     0       0       1  \n",
       "9              400m freestyle men    Gold     1       0       0  "
      ]
     },
     "execution_count": 154,
     "metadata": {},
     "output_type": "execute_result"
    }
   ],
   "source": [
    "df.head(10)"
   ]
  },
  {
   "cell_type": "markdown",
   "metadata": {},
   "source": [
    "### Is data missing?"
   ]
  },
  {
   "cell_type": "code",
   "execution_count": 155,
   "metadata": {},
   "outputs": [
    {
     "data": {
      "text/plain": [
       "Games         0\n",
       "Year          0\n",
       "Sport         0\n",
       "Discipline    0\n",
       "Athlete       0\n",
       "Team          0\n",
       "Gender        0\n",
       "Event         0\n",
       "Medal         0\n",
       "Gold          0\n",
       "Silver        0\n",
       "Bronze        0\n",
       "dtype: int64"
      ]
     },
     "execution_count": 155,
     "metadata": {},
     "output_type": "execute_result"
    }
   ],
   "source": [
    "df.isnull().sum()"
   ]
  },
  {
   "cell_type": "markdown",
   "metadata": {},
   "source": [
    "$\\rightarrow$ no entry is NaN"
   ]
  },
  {
   "cell_type": "markdown",
   "metadata": {},
   "source": [
    "### Are Sport column and Discipline column the same for Athletics?"
   ]
  },
  {
   "cell_type": "code",
   "execution_count": 156,
   "metadata": {},
   "outputs": [
    {
     "data": {
      "text/plain": [
       "array(['Athletics'], dtype=object)"
      ]
     },
     "execution_count": 156,
     "metadata": {},
     "output_type": "execute_result"
    }
   ],
   "source": [
    "# get all results where Sport=='Athletics' or Discipline=='Athletics' and get unique Sport\n",
    "pd.unique(df[(df.Sport=='Athletics') | (df.Discipline=='Athletics')].Sport)"
   ]
  },
  {
   "cell_type": "code",
   "execution_count": 157,
   "metadata": {},
   "outputs": [
    {
     "data": {
      "text/plain": [
       "array(['Athletics'], dtype=object)"
      ]
     },
     "execution_count": 157,
     "metadata": {},
     "output_type": "execute_result"
    }
   ],
   "source": [
    "# get all results where Sport=='Athletics' or Discipline=='Athletics' and get unique Discipline\n",
    "pd.unique(df[(df.Sport=='Athletics') | (df.Discipline=='Athletics')].Discipline)"
   ]
  },
  {
   "cell_type": "markdown",
   "metadata": {},
   "source": [
    "### Is gold medal data 0/1 encoding consistent?"
   ]
  },
  {
   "cell_type": "code",
   "execution_count": 158,
   "metadata": {},
   "outputs": [
    {
     "data": {
      "text/plain": [
       "array([ 1,  0, 10])"
      ]
     },
     "execution_count": 158,
     "metadata": {},
     "output_type": "execute_result"
    }
   ],
   "source": [
    "pd.unique(df.Gold)"
   ]
  },
  {
   "cell_type": "code",
   "execution_count": 159,
   "metadata": {},
   "outputs": [
    {
     "data": {
      "text/html": [
       "<div>\n",
       "<style scoped>\n",
       "    .dataframe tbody tr th:only-of-type {\n",
       "        vertical-align: middle;\n",
       "    }\n",
       "\n",
       "    .dataframe tbody tr th {\n",
       "        vertical-align: top;\n",
       "    }\n",
       "\n",
       "    .dataframe thead th {\n",
       "        text-align: right;\n",
       "    }\n",
       "</style>\n",
       "<table border=\"1\" class=\"dataframe\">\n",
       "  <thead>\n",
       "    <tr style=\"text-align: right;\">\n",
       "      <th></th>\n",
       "      <th>Games</th>\n",
       "      <th>Year</th>\n",
       "      <th>Sport</th>\n",
       "      <th>Discipline</th>\n",
       "      <th>Athlete</th>\n",
       "      <th>Team</th>\n",
       "      <th>Gender</th>\n",
       "      <th>Event</th>\n",
       "      <th>Medal</th>\n",
       "      <th>Gold</th>\n",
       "      <th>Silver</th>\n",
       "      <th>Bronze</th>\n",
       "    </tr>\n",
       "  </thead>\n",
       "  <tbody>\n",
       "    <tr>\n",
       "      <th>16927</th>\n",
       "      <td>Los Angeles (1984)</td>\n",
       "      <td>1984</td>\n",
       "      <td>Athletics</td>\n",
       "      <td>Athletics</td>\n",
       "      <td>Carl Lewis</td>\n",
       "      <td>USA</td>\n",
       "      <td>Men</td>\n",
       "      <td>long jump men</td>\n",
       "      <td>Gold</td>\n",
       "      <td>10</td>\n",
       "      <td>0</td>\n",
       "      <td>0</td>\n",
       "    </tr>\n",
       "  </tbody>\n",
       "</table>\n",
       "</div>"
      ],
      "text/plain": [
       "                    Games  Year      Sport Discipline     Athlete Team Gender  \\\n",
       "16927  Los Angeles (1984)  1984  Athletics  Athletics  Carl Lewis  USA    Men   \n",
       "\n",
       "               Event Medal  Gold  Silver  Bronze  \n",
       "16927  long jump men  Gold    10       0       0  "
      ]
     },
     "execution_count": 159,
     "metadata": {},
     "output_type": "execute_result"
    }
   ],
   "source": [
    "df[df.Gold==10]"
   ]
  },
  {
   "cell_type": "markdown",
   "metadata": {},
   "source": [
    "$\\rightarrow$ no, fix entry with Gold=1 to not falsify aggregate "
   ]
  },
  {
   "cell_type": "code",
   "execution_count": 160,
   "metadata": {},
   "outputs": [
    {
     "data": {
      "text/plain": [
       "Games         Los Angeles (1984)\n",
       "Year                        1984\n",
       "Sport                  Athletics\n",
       "Discipline             Athletics\n",
       "Athlete               Carl Lewis\n",
       "Team                         USA\n",
       "Gender                       Men\n",
       "Event              long jump men\n",
       "Medal                       Gold\n",
       "Gold                           1\n",
       "Silver                         0\n",
       "Bronze                         0\n",
       "Name: 16927, dtype: object"
      ]
     },
     "execution_count": 160,
     "metadata": {},
     "output_type": "execute_result"
    }
   ],
   "source": [
    "df.at[16927, 'Gold']  = 1\n",
    "df.iloc[16927]"
   ]
  },
  {
   "cell_type": "code",
   "execution_count": 161,
   "metadata": {},
   "outputs": [
    {
     "name": "stdout",
     "output_type": "stream",
     "text": [
      "['Gold' 'Silver' 'Bronze']\n"
     ]
    }
   ],
   "source": [
    "print(pd.unique(df.Medal))"
   ]
  },
  {
   "cell_type": "markdown",
   "metadata": {},
   "source": [
    "$\\rightarrow$ consistent, can be used"
   ]
  },
  {
   "cell_type": "markdown",
   "metadata": {},
   "source": [
    "is data correct for other medals?"
   ]
  },
  {
   "cell_type": "code",
   "execution_count": 162,
   "metadata": {},
   "outputs": [
    {
     "name": "stdout",
     "output_type": "stream",
     "text": [
      "[0 1]\n",
      "[0 1]\n"
     ]
    }
   ],
   "source": [
    "print(pd.unique(df.Silver))\n",
    "print(pd.unique(df.Bronze))"
   ]
  },
  {
   "cell_type": "code",
   "execution_count": 163,
   "metadata": {},
   "outputs": [
    {
     "name": "stdout",
     "output_type": "stream",
     "text": [
      "[1]\n"
     ]
    }
   ],
   "source": [
    "# are there entries with multiple medals?\n",
    "print((df.Gold + df.Silver + df.Bronze).unique())"
   ]
  },
  {
   "cell_type": "markdown",
   "metadata": {},
   "source": [
    "$\\rightarrow$ consistent"
   ]
  },
  {
   "cell_type": "code",
   "execution_count": 164,
   "metadata": {},
   "outputs": [],
   "source": [
    "# is the column medal consistent with the entries in the columns Gold, Silver, Bronze? "
   ]
  },
  {
   "cell_type": "code",
   "execution_count": 165,
   "metadata": {},
   "outputs": [
    {
     "data": {
      "text/plain": [
       "array([ True])"
      ]
     },
     "execution_count": 165,
     "metadata": {},
     "output_type": "execute_result"
    }
   ],
   "source": [
    "pd.unique((df.Medal == 'Gold') == (df.Gold == 1))"
   ]
  },
  {
   "cell_type": "code",
   "execution_count": 166,
   "metadata": {},
   "outputs": [
    {
     "data": {
      "text/plain": [
       "array([ True])"
      ]
     },
     "execution_count": 166,
     "metadata": {},
     "output_type": "execute_result"
    }
   ],
   "source": [
    "pd.unique((df.Medal == 'Silver') == (df.Silver == 1))"
   ]
  },
  {
   "cell_type": "code",
   "execution_count": 167,
   "metadata": {},
   "outputs": [
    {
     "data": {
      "text/plain": [
       "array([ True])"
      ]
     },
     "execution_count": 167,
     "metadata": {},
     "output_type": "execute_result"
    }
   ],
   "source": [
    "pd.unique((df.Medal == 'Bronze') == (df.Bronze == 1))"
   ]
  },
  {
   "cell_type": "markdown",
   "metadata": {},
   "source": [
    "$\\rightarrow$ consistent "
   ]
  },
  {
   "cell_type": "markdown",
   "metadata": {},
   "source": [
    "### Are there duplicates in the data? "
   ]
  },
  {
   "cell_type": "code",
   "execution_count": 168,
   "metadata": {},
   "outputs": [
    {
     "data": {
      "text/plain": [
       "True"
      ]
     },
     "execution_count": 168,
     "metadata": {},
     "output_type": "execute_result"
    }
   ],
   "source": [
    "# Check if there are duplicates (If True then there are duplicates)\n",
    "df.duplicated().any()"
   ]
  },
  {
   "cell_type": "code",
   "execution_count": 169,
   "metadata": {},
   "outputs": [],
   "source": [
    "# Remove duplicated rows\n",
    "df = df.drop_duplicates()\n",
    "# df[df.Athlete=='Carl Lewis']"
   ]
  },
  {
   "cell_type": "markdown",
   "metadata": {},
   "source": [
    "### Question 1: Find the five athletes with the most gold medals in athletics"
   ]
  },
  {
   "cell_type": "code",
   "execution_count": 170,
   "metadata": {},
   "outputs": [],
   "source": [
    "# select all rows of gold medalists in athletics, group them by athlete's name and sort\n",
    "# descending by the sum of their gold medals\n",
    "athletics_medalists_sorted = df[(df.Sport=='Athletics') & (df.Medal=='Gold')][['Athlete','Gold']] \\\n",
    "        .groupby(['Athlete']) \\\n",
    "        .sum() \\\n",
    "        .sort_values(by = ['Gold'],ascending=[False]) \\\n",
    "        .reset_index()"
   ]
  },
  {
   "cell_type": "code",
   "execution_count": 171,
   "metadata": {},
   "outputs": [
    {
     "data": {
      "text/html": [
       "<div>\n",
       "<style scoped>\n",
       "    .dataframe tbody tr th:only-of-type {\n",
       "        vertical-align: middle;\n",
       "    }\n",
       "\n",
       "    .dataframe tbody tr th {\n",
       "        vertical-align: top;\n",
       "    }\n",
       "\n",
       "    .dataframe thead th {\n",
       "        text-align: right;\n",
       "    }\n",
       "</style>\n",
       "<table border=\"1\" class=\"dataframe\">\n",
       "  <thead>\n",
       "    <tr style=\"text-align: right;\">\n",
       "      <th></th>\n",
       "      <th>Athlete</th>\n",
       "      <th>Gold</th>\n",
       "    </tr>\n",
       "  </thead>\n",
       "  <tbody>\n",
       "    <tr>\n",
       "      <th>0</th>\n",
       "      <td>Carl Lewis</td>\n",
       "      <td>9</td>\n",
       "    </tr>\n",
       "    <tr>\n",
       "      <th>1</th>\n",
       "      <td>Usain Bolt</td>\n",
       "      <td>9</td>\n",
       "    </tr>\n",
       "    <tr>\n",
       "      <th>2</th>\n",
       "      <td>Paavo Nurmi</td>\n",
       "      <td>9</td>\n",
       "    </tr>\n",
       "    <tr>\n",
       "      <th>3</th>\n",
       "      <td>Allyson Felix</td>\n",
       "      <td>6</td>\n",
       "    </tr>\n",
       "    <tr>\n",
       "      <th>4</th>\n",
       "      <td>Ville Ritola</td>\n",
       "      <td>5</td>\n",
       "    </tr>\n",
       "  </tbody>\n",
       "</table>\n",
       "</div>"
      ],
      "text/plain": [
       "         Athlete  Gold\n",
       "0     Carl Lewis     9\n",
       "1     Usain Bolt     9\n",
       "2    Paavo Nurmi     9\n",
       "3  Allyson Felix     6\n",
       "4   Ville Ritola     5"
      ]
     },
     "execution_count": 171,
     "metadata": {},
     "output_type": "execute_result"
    }
   ],
   "source": [
    "athletics_medalists_sorted[:5]"
   ]
  },
  {
   "cell_type": "markdown",
   "metadata": {},
   "source": [
    "### Question 2: Find the 5 athletes with gold medals in the largest number of (different) athletics events "
   ]
  },
  {
   "cell_type": "code",
   "execution_count": 172,
   "metadata": {},
   "outputs": [],
   "source": [
    "df.Event = df.Event.str.replace(' women','')\n",
    "df.Event = df.Event.str.replace(' men','')"
   ]
  },
  {
   "cell_type": "code",
   "execution_count": 173,
   "metadata": {},
   "outputs": [
    {
     "data": {
      "text/html": [
       "<div>\n",
       "<style scoped>\n",
       "    .dataframe tbody tr th:only-of-type {\n",
       "        vertical-align: middle;\n",
       "    }\n",
       "\n",
       "    .dataframe tbody tr th {\n",
       "        vertical-align: top;\n",
       "    }\n",
       "\n",
       "    .dataframe thead th {\n",
       "        text-align: right;\n",
       "    }\n",
       "</style>\n",
       "<table border=\"1\" class=\"dataframe\">\n",
       "  <thead>\n",
       "    <tr style=\"text-align: right;\">\n",
       "      <th></th>\n",
       "      <th>Athlete</th>\n",
       "      <th>Event</th>\n",
       "    </tr>\n",
       "  </thead>\n",
       "  <tbody>\n",
       "    <tr>\n",
       "      <th>0</th>\n",
       "      <td>Paavo Nurmi</td>\n",
       "      <td>6</td>\n",
       "    </tr>\n",
       "    <tr>\n",
       "      <th>1</th>\n",
       "      <td>Ville Ritola</td>\n",
       "      <td>5</td>\n",
       "    </tr>\n",
       "    <tr>\n",
       "      <th>2</th>\n",
       "      <td>Jesse Owens</td>\n",
       "      <td>4</td>\n",
       "    </tr>\n",
       "    <tr>\n",
       "      <th>3</th>\n",
       "      <td>Fanny Blankers-koen</td>\n",
       "      <td>4</td>\n",
       "    </tr>\n",
       "    <tr>\n",
       "      <th>4</th>\n",
       "      <td>Alvin Kraenzlein</td>\n",
       "      <td>4</td>\n",
       "    </tr>\n",
       "  </tbody>\n",
       "</table>\n",
       "</div>"
      ],
      "text/plain": [
       "               Athlete  Event\n",
       "0          Paavo Nurmi      6\n",
       "1         Ville Ritola      5\n",
       "2          Jesse Owens      4\n",
       "3  Fanny Blankers-koen      4\n",
       "4     Alvin Kraenzlein      4"
      ]
     },
     "execution_count": 173,
     "metadata": {},
     "output_type": "execute_result"
    }
   ],
   "source": [
    "# select all rows of gold medalists, group them by athlete's name and sort descending by the sum of their unique Events \n",
    "# reset indices to not use atheletes' names \n",
    "events_medalists_sorted = df[(df.Medal=='Gold') & (df.Discipline=='Athletics')].groupby(['Athlete']) \\\n",
    "        .agg({'Event': pd.Series.nunique}) \\\n",
    "        .sort_values(by = ['Event'],ascending=[False])  \\\n",
    "        .reset_index()\n",
    "\n",
    "\n",
    "events_medalists_sorted[:5] "
   ]
  },
  {
   "cell_type": "markdown",
   "metadata": {},
   "source": [
    "### Question 3: If the olympics committee found guilty of doping the first and the third of the five athletes from question2 create a new medals.csv dataset with redistributed medals after the gold medals of those two athletes are removed. Who then are the top five that won gold medals in the largest number of different athletic events?"
   ]
  },
  {
   "cell_type": "code",
   "execution_count": 174,
   "metadata": {},
   "outputs": [
    {
     "name": "stdout",
     "output_type": "stream",
     "text": [
      "['Paavo Nurmi', 'Jesse Owens', 'Fanny Blankers-koen', 'Alvin Kraenzlein', 'Carl Lewis', 'Betty Cuthbert', 'Hannes Kolehmainen']\n"
     ]
    }
   ],
   "source": [
    "# list of athletes to consider \n",
    "guilty_athletes = list(events_medalists_sorted[0:1].Athlete) + list(events_medalists_sorted[2:8].Athlete) \n",
    "print(guilty_athletes)"
   ]
  },
  {
   "cell_type": "code",
   "execution_count": 175,
   "metadata": {},
   "outputs": [
    {
     "name": "stdout",
     "output_type": "stream",
     "text": [
      "['Paris (1900)' 'Stockholm (1912)' 'Antwerp (1920)' 'Paris (1924)'\n",
      " 'Amsterdam (1928)' 'Berlin (1936)' 'London (1948)'\n",
      " 'Melbourne / Stockholm (1956)' 'Tokyo (1964)' 'Los Angeles (1984)'\n",
      " 'Seoul (1988)' 'Barcelona (1992)' 'Atlanta (1996)']\n"
     ]
    }
   ],
   "source": [
    "# events to consider\n",
    "print(pd.unique(df[df.Athlete.isin(guilty_athletes)].Games))"
   ]
  },
  {
   "cell_type": "markdown",
   "metadata": {},
   "source": [
    "Assumption: If an athlete in a team sport event (relay for instance) is disqualified, the whole team is then disqualified <br/>\n",
    "The new bronze medals will be filled with Athlete='Unknown' and Team='Unknown'"
   ]
  },
  {
   "cell_type": "code",
   "execution_count": 176,
   "metadata": {},
   "outputs": [],
   "source": [
    "def adjust_event(games, event, medal, gender):\n",
    "        # select relevant event rows\n",
    "        event_df = df[(df.Games == games) & (df.Event == event) & (df.Gender == gender)]\n",
    "\n",
    "        medals = ['Gold','Silver','Bronze']\n",
    "        \n",
    "        # iterate over medals to adjust\n",
    "        while len(medals) > 0:\n",
    "            # remove medal from list\n",
    "            m = medals.pop(0)\n",
    "            # get indices corresponding to medal\n",
    "            idx = event_df[event_df.Medal==m].index.tolist()\n",
    "\n",
    "            # if medal=='Bronze', add unknown Athletes and Team\n",
    "            if len(medals)==0 :\n",
    "                names, teams = ['Unknown']*len(idx), ['Unknown']*len(idx)\n",
    "            # else use Athletes of place below\n",
    "            else:\n",
    "                names, teams = event_df[event_df.Medal==medals[0]].Athlete.tolist(), event_df[event_df.Medal==medals[0]].Team.tolist()\n",
    "\n",
    "            # update dataframe, iterate over lists in case of team sport events\n",
    "            for (i,n,t) in zip(idx, names, teams):\n",
    "                df.at[i, 'Athlete']  = n\n",
    "                df.at[i, 'Team']  = t"
   ]
  },
  {
   "cell_type": "markdown",
   "metadata": {},
   "source": [
    "Iteratively overwrite rows in question:"
   ]
  },
  {
   "cell_type": "code",
   "execution_count": 177,
   "metadata": {},
   "outputs": [],
   "source": [
    "# for each of the guilty athletes\n",
    "for athlete in guilty_athletes:\n",
    "    # find all the events they won a gold medal in\n",
    "    results = df[(df.Athlete==athlete) & (df.Medal=='Gold')][['Games','Event','Medal','Gender']]\n",
    "\n",
    "    # for each event the offender has taken part in\n",
    "    for index, row in results.iterrows():\n",
    "        # adjust the scores\n",
    "        adjust_event(row['Games'], row['Event'], row['Medal'], row['Gender'])"
   ]
  },
  {
   "cell_type": "markdown",
   "metadata": {},
   "source": [
    "New 5 athletes with the most gold medals in different events:"
   ]
  },
  {
   "cell_type": "code",
   "execution_count": 178,
   "metadata": {},
   "outputs": [],
   "source": [
    "#events_medalists_sorted_adjusted = df[(df.Medal=='Gold') & (df.Discipline=='Athletics')][['Athlete','Event','Gold']] \\\n",
    " #   .groupby(['Athlete']) \\\n",
    " #   .sum() \\\n",
    " #   .sort_values(by = ['Gold'],ascending=[False]) \\\n",
    " #   .reset_index()\n",
    "\n",
    "events_medalists_sorted_adjusted = df[(df.Medal=='Gold') & (df.Discipline=='Athletics')].groupby(['Athlete']) \\\n",
    "        .agg({'Event': pd.Series.nunique}) \\\n",
    "        .sort_values(by = ['Event'],ascending=[False])  \\\n",
    "        .reset_index()"
   ]
  },
  {
   "cell_type": "code",
   "execution_count": 179,
   "metadata": {},
   "outputs": [
    {
     "data": {
      "text/html": [
       "<div>\n",
       "<style scoped>\n",
       "    .dataframe tbody tr th:only-of-type {\n",
       "        vertical-align: middle;\n",
       "    }\n",
       "\n",
       "    .dataframe tbody tr th {\n",
       "        vertical-align: top;\n",
       "    }\n",
       "\n",
       "    .dataframe thead th {\n",
       "        text-align: right;\n",
       "    }\n",
       "</style>\n",
       "<table border=\"1\" class=\"dataframe\">\n",
       "  <thead>\n",
       "    <tr style=\"text-align: right;\">\n",
       "      <th></th>\n",
       "      <th>Athlete</th>\n",
       "      <th>Event</th>\n",
       "    </tr>\n",
       "  </thead>\n",
       "  <tbody>\n",
       "    <tr>\n",
       "      <th>0</th>\n",
       "      <td>Ville Ritola</td>\n",
       "      <td>4</td>\n",
       "    </tr>\n",
       "    <tr>\n",
       "      <th>1</th>\n",
       "      <td>Walter B. John Tewksbury</td>\n",
       "      <td>3</td>\n",
       "    </tr>\n",
       "    <tr>\n",
       "      <th>2</th>\n",
       "      <td>Renate Stecher</td>\n",
       "      <td>3</td>\n",
       "    </tr>\n",
       "    <tr>\n",
       "      <th>3</th>\n",
       "      <td>Harrison Dillard</td>\n",
       "      <td>3</td>\n",
       "    </tr>\n",
       "    <tr>\n",
       "      <th>4</th>\n",
       "      <td>Wilma Rudolph</td>\n",
       "      <td>3</td>\n",
       "    </tr>\n",
       "  </tbody>\n",
       "</table>\n",
       "</div>"
      ],
      "text/plain": [
       "                    Athlete  Event\n",
       "0              Ville Ritola      4\n",
       "1  Walter B. John Tewksbury      3\n",
       "2            Renate Stecher      3\n",
       "3          Harrison Dillard      3\n",
       "4             Wilma Rudolph      3"
      ]
     },
     "execution_count": 179,
     "metadata": {},
     "output_type": "execute_result"
    }
   ],
   "source": [
    "events_medalists_sorted_adjusted[:5] # 17 tied for second place"
   ]
  },
  {
   "cell_type": "markdown",
   "metadata": {},
   "source": [
    "Save adjusted data to csv, with ',' comma as separator as in the provided file:"
   ]
  },
  {
   "cell_type": "code",
   "execution_count": 180,
   "metadata": {},
   "outputs": [],
   "source": [
    "df.to_csv('medals_adjusted.csv', sep=',')"
   ]
  }
 ],
 "metadata": {
  "kernelspec": {
   "display_name": "Python 3",
   "language": "python",
   "name": "python3"
  },
  "language_info": {
   "codemirror_mode": {
    "name": "ipython",
    "version": 3
   },
   "file_extension": ".py",
   "mimetype": "text/x-python",
   "name": "python",
   "nbconvert_exporter": "python",
   "pygments_lexer": "ipython3",
   "version": "3.7.3"
  }
 },
 "nbformat": 4,
 "nbformat_minor": 4
}
